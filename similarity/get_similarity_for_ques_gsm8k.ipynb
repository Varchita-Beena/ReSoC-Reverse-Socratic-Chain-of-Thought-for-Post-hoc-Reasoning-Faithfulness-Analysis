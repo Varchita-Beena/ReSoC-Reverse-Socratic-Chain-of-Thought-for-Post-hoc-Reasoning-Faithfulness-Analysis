{
 "cells": [
  {
   "cell_type": "code",
   "execution_count": null,
   "id": "d971425a",
   "metadata": {},
   "outputs": [],
   "source": [
    "import os\n",
    "import re\n",
    "import json\n",
    "import ast\n",
    "from sklearn.metrics.pairwise import cosine_similarity\n",
    "from transformers import AutoTokenizer, AutoModel\n",
    "import torch\n",
    "import torch.nn.functional as F\n",
    "import numpy as np\n",
    "import ast\n",
    "import pandas as pd\n"
   ]
  },
  {
   "cell_type": "code",
   "execution_count": null,
   "id": "2c4a22f2",
   "metadata": {},
   "outputs": [],
   "source": [
    "main_path = '../gsm8k/LLMjudge/'\n",
    "files = os.listdir(main_path)\n",
    "len(files)"
   ]
  },
  {
   "cell_type": "code",
   "execution_count": null,
   "id": "dc948f1f",
   "metadata": {},
   "outputs": [],
   "source": [
    "if '.DS_Store' in files:\n",
    "    files.remove('.DS_Store')\n",
    "len(files)"
   ]
  },
  {
   "cell_type": "code",
   "execution_count": null,
   "id": "667980c4",
   "metadata": {},
   "outputs": [],
   "source": [
    "# Load model from HuggingFace Hub\n",
    "tokenizer = AutoTokenizer.from_pretrained('sentence-transformers/all-MiniLM-L6-v2')\n",
    "model = AutoModel.from_pretrained('sentence-transformers/all-MiniLM-L6-v2')\n"
   ]
  },
  {
   "cell_type": "code",
   "execution_count": null,
   "id": "9c478e85",
   "metadata": {},
   "outputs": [],
   "source": [
    "files[0]"
   ]
  },
  {
   "cell_type": "code",
   "execution_count": null,
   "id": "26a7e365",
   "metadata": {},
   "outputs": [],
   "source": [
    "with open(main_path + files[0], 'r') as f:\n",
    "        data = json.load(f)\n",
    "data"
   ]
  },
  {
   "cell_type": "code",
   "execution_count": null,
   "id": "6ea32f34",
   "metadata": {},
   "outputs": [],
   "source": [
    "#Mean Pooling - Take attention mask into account for correct averaging\n",
    "def mean_pooling(model_output, attention_mask):\n",
    "    token_embeddings = model_output[0] #First element of model_output contains all token embeddings\n",
    "    input_mask_expanded = attention_mask.unsqueeze(-1).expand(token_embeddings.size()).float()\n",
    "    return torch.sum(token_embeddings * input_mask_expanded, 1) / torch.clamp(input_mask_expanded.sum(1), min=1e-9)\n",
    "\n",
    "def get_emb(question_dict):\n",
    "    encoded_input = tokenizer(question_dict, padding=True, truncation=False, return_tensors='pt')\n",
    "    # Compute token embeddings\n",
    "    with torch.no_grad():\n",
    "        model_output = model(**encoded_input)\n",
    "\n",
    "    # Perform pooling\n",
    "    sentence_embeddings = mean_pooling(model_output, encoded_input['attention_mask'])\n",
    "\n",
    "    # Normalize embeddings\n",
    "    sentence_embeddings = F.normalize(sentence_embeddings, p=2, dim=1)\n",
    "\n",
    "    return sentence_embeddings\n"
   ]
  },
  {
   "cell_type": "code",
   "execution_count": null,
   "id": "60e2dd23",
   "metadata": {},
   "outputs": [],
   "source": [
    "for j, file_name in enumerate(files):\n",
    "    print(j)\n",
    "    \n",
    "    with open(main_path + file_name , 'r') as f:\n",
    "        data = json.load(f)\n",
    "        \n",
    "    reason = data['reason']\n",
    "    question = data['question']\n",
    "    answer = data['answer']\n",
    "    GT_answer = data['GT_answer']\n",
    "    GT_reason = data['GT_reason']  \n",
    "    generated_question = data['generated_question']\n",
    "    evaluation = data['evaluation']\n",
    "    \n",
    "    question_dict = {}\n",
    "    q1_start = re.search(\"question1\",generated_question[0]).span()[0]\n",
    "    q1_end = re.search(\"question1\",generated_question[0]).span()[1]\n",
    "\n",
    "    q2_start = re.search(\"question2\",generated_question[1]).span()[0]\n",
    "    q2_end = re.search(\"question2\",generated_question[1]).span()[1]\n",
    "\n",
    "    q3_start = re.search(\"question3\",generated_question[2]).span()[0]\n",
    "    q3_end = re.search(\"question3\",generated_question[2]).span()[1]\n",
    "\n",
    "    q1 = generated_question[0][q1_end + 4:]\n",
    "    q1 = q1.replace('\"', \"\")\n",
    "    q2 = generated_question[1][q2_end + 4:]\n",
    "    q2 = q2.replace('\"', \"\")\n",
    "    q3 = generated_question[2][q3_end + 4:]\n",
    "    q3 = q3.replace('\"', \"\")\n",
    "    \n",
    "    temp_ques = [question]\n",
    "    temp_ques.append(q1)\n",
    "    temp_ques.append(q2)\n",
    "    temp_ques.append(q3)\n",
    "    \n",
    "    sentence_embeddings = get_emb(temp_ques)\n",
    "    temp_sim = []\n",
    "    ques_emb = sentence_embeddings[0]\n",
    "    temp_ques.pop(0)\n",
    "    for each in sentence_embeddings[1:]:\n",
    "        similarity = cosine_similarity(ques_emb.cpu().numpy().reshape(1, -1), each.cpu().numpy().reshape(1, -1))[0][0]\n",
    "        temp_sim.append(similarity)\n",
    "    max_sim = max(temp_sim)\n",
    "    \n",
    "    question_num = []\n",
    "    similarity_value = []\n",
    "    for sim_i, sim in enumerate(temp_sim):\n",
    "        if sim >= 0.5:\n",
    "            similarity_value.append(sim)\n",
    "            question_num.append(sim_i)\n",
    "    if len(similarity_value) == 0:\n",
    "        similarity_value.append(-1)\n",
    "        question_num.append(-1)\n",
    "    else:\n",
    "        similarity_value, question_num = zip(*sorted(zip(similarity_value, question_num), key=lambda pair: pair[0]))\n",
    "        similarity_value, question_num = list(similarity_value), list(question_num)\n",
    "    \n",
    "    similarity_value = ast.literal_eval(str(similarity_value))\n",
    "    result = {\n",
    "        'reason':reason,\n",
    "        'question':question,\n",
    "        'answer':answer,\n",
    "        'GT_answer':GT_answer,\n",
    "        'GT_reason':GT_reason,\n",
    "        'generated_question':temp_ques,\n",
    "        'evaluation':evaluation,\n",
    "        'question_num':question_num,\n",
    "        'ques_similarity_value':similarity_value,   \n",
    "    }\n",
    "    \n",
    "    with open('../gsm8k/similarity_generate_questions/' + file_name, 'w') as f:\n",
    "        json.dump(result, f, indent = 2)\n",
    "    "
   ]
  },
  {
   "cell_type": "code",
   "execution_count": null,
   "id": "ef4ea16f",
   "metadata": {},
   "outputs": [],
   "source": []
  }
 ],
 "metadata": {
  "kernelspec": {
   "display_name": "Python 3 (ipykernel)",
   "language": "python",
   "name": "python3"
  },
  "language_info": {
   "codemirror_mode": {
    "name": "ipython",
    "version": 3
   },
   "file_extension": ".py",
   "mimetype": "text/x-python",
   "name": "python",
   "nbconvert_exporter": "python",
   "pygments_lexer": "ipython3",
   "version": "3.9.16"
  }
 },
 "nbformat": 4,
 "nbformat_minor": 5
}
