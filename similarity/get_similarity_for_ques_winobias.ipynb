{
 "cells": [
  {
   "cell_type": "code",
   "execution_count": null,
   "id": "d971425a",
   "metadata": {},
   "outputs": [],
   "source": [
    "import os\n",
    "import re\n",
    "import json\n",
    "import ast\n",
    "from sklearn.metrics.pairwise import cosine_similarity\n",
    "from transformers import AutoTokenizer, AutoModel\n",
    "import torch\n",
    "import torch.nn.functional as F\n",
    "import numpy as np\n",
    "import ast\n",
    "import pandas as pd\n"
   ]
  },
  {
   "cell_type": "code",
   "execution_count": null,
   "id": "2c4a22f2",
   "metadata": {},
   "outputs": [],
   "source": [
    "path = '../self_contra/wino_bias_ques_generate_gpt3.5/'\n",
    "files = os.listdir(path)\n",
    "files"
   ]
  },
  {
   "cell_type": "code",
   "execution_count": null,
   "id": "dc948f1f",
   "metadata": {},
   "outputs": [],
   "source": [
    "files.remove('.DS_Store')\n",
    "len(files)"
   ]
  },
  {
   "cell_type": "code",
   "execution_count": null,
   "id": "667980c4",
   "metadata": {},
   "outputs": [],
   "source": [
    "# Load model from HuggingFace Hub\n",
    "tokenizer = AutoTokenizer.from_pretrained('sentence-transformers/all-MiniLM-L6-v2')\n",
    "model = AutoModel.from_pretrained('sentence-transformers/all-MiniLM-L6-v2')\n"
   ]
  },
  {
   "cell_type": "code",
   "execution_count": null,
   "id": "9c478e85",
   "metadata": {},
   "outputs": [],
   "source": [
    "files[0]"
   ]
  },
  {
   "cell_type": "code",
   "execution_count": null,
   "id": "26a7e365",
   "metadata": {},
   "outputs": [],
   "source": [
    "data = pd.read_csv(path + files[0])\n",
    "data.columns"
   ]
  },
  {
   "cell_type": "code",
   "execution_count": null,
   "id": "6ea32f34",
   "metadata": {},
   "outputs": [],
   "source": [
    "#Mean Pooling - Take attention mask into account for correct averaging\n",
    "def mean_pooling(model_output, attention_mask):\n",
    "    token_embeddings = model_output[0] #First element of model_output contains all token embeddings\n",
    "    input_mask_expanded = attention_mask.unsqueeze(-1).expand(token_embeddings.size()).float()\n",
    "    return torch.sum(token_embeddings * input_mask_expanded, 1) / torch.clamp(input_mask_expanded.sum(1), min=1e-9)\n",
    "\n",
    "def get_emb(question_dict):\n",
    "    encoded_input = tokenizer(question_dict, padding=True, truncation=False, return_tensors='pt')\n",
    "    # Compute token embeddings\n",
    "    with torch.no_grad():\n",
    "        model_output = model(**encoded_input)\n",
    "\n",
    "    # Perform pooling\n",
    "    sentence_embeddings = mean_pooling(model_output, encoded_input['attention_mask'])\n",
    "\n",
    "    # Normalize embeddings\n",
    "    sentence_embeddings = F.normalize(sentence_embeddings, p=2, dim=1)\n",
    "\n",
    "    return sentence_embeddings\n"
   ]
  },
  {
   "cell_type": "code",
   "execution_count": null,
   "id": "60e2dd23",
   "metadata": {},
   "outputs": [],
   "source": [
    "for j, file_name in enumerate(files):\n",
    "    print(j, file_name)\n",
    "    data = pd.read_csv(path + file_name)\n",
    "    similarity_value = []\n",
    "    question_num = []\n",
    "    for i, row in data.iterrows():\n",
    "        gene_ques = row['generated_questions']\n",
    "        ques = row['question']\n",
    "        question = ques.split('.')[1]\n",
    "        question_dict = ast.literal_eval(gene_ques)\n",
    "        temp = [question]\n",
    "        \n",
    "        temp.append(question_dict['question1'])\n",
    "        temp.append(question_dict['question2'])\n",
    "        temp.append(question_dict['question3'])\n",
    "        \n",
    "        for each in question_dict:\n",
    "            temp.append(each)\n",
    "        sentence_embeddings = get_emb(temp)\n",
    "        \n",
    "        ques_emb = sentence_embeddings[0]\n",
    "        temp_sim = []\n",
    "        for each in sentence_embeddings[1:]:\n",
    "            similarity = cosine_similarity(ques_emb.cpu().numpy().reshape(1, -1), each.cpu().numpy().reshape(1, -1))[0][0]\n",
    "            temp_sim.append(similarity)\n",
    "        max_sim = max(temp_sim)\n",
    "        if max_sim >= 0.5:\n",
    "            index = temp_sim.index(max_sim)\n",
    "            similarity_value.append(max_sim)\n",
    "            question_num.append(index)\n",
    "            '''\n",
    "            if index == 0:\n",
    "                print(question_dict['question1'], max_sim)\n",
    "            elif index == 1:\n",
    "                print(question_dict['question2'], max_sim)\n",
    "            elif index == 2:\n",
    "                print(question_dict['question3'], max_sim)\n",
    "            '''\n",
    "        else:\n",
    "            similarity_value.append(-1)\n",
    "            question_num.append(-1)\n",
    "        \n",
    "    data['similarity_value'] = similarity_value\n",
    "    data['question_num'] = question_num\n",
    "    \n",
    "    data.to_csv('../self_contra/wino_bias_question_similarity/' + file_name)\n",
    "            \n",
    "            "
   ]
  },
  {
   "cell_type": "code",
   "execution_count": null,
   "id": "1f29388d",
   "metadata": {},
   "outputs": [],
   "source": [
    "from bert_score import score\n",
    "\n",
    "# Example: compare candidate prediction to ground truth\n",
    "candidates = [\"The man is playing guitar.\"]\n",
    "references = [\"A man plays the guitar.\"]\n",
    "\n",
    "P, R, F1 = score(candidates, references, lang=\"en\", verbose=True)\n",
    "\n",
    "print(f\"Precision: {P.item():.4f}\")\n",
    "print(f\"Recall:    {R.item():.4f}\")\n",
    "print(f\"F1 score:  {F1.item():.4f}\")\n"
   ]
  },
  {
   "cell_type": "code",
   "execution_count": null,
   "id": "b8e5334e",
   "metadata": {},
   "outputs": [],
   "source": []
  }
 ],
 "metadata": {
  "kernelspec": {
   "display_name": "Python 3 (ipykernel)",
   "language": "python",
   "name": "python3"
  },
  "language_info": {
   "codemirror_mode": {
    "name": "ipython",
    "version": 3
   },
   "file_extension": ".py",
   "mimetype": "text/x-python",
   "name": "python",
   "nbconvert_exporter": "python",
   "pygments_lexer": "ipython3",
   "version": "3.9.16"
  }
 },
 "nbformat": 4,
 "nbformat_minor": 5
}
