{
 "cells": [
  {
   "cell_type": "code",
   "execution_count": null,
   "id": "a87c49a8",
   "metadata": {},
   "outputs": [],
   "source": [
    "from transformers import AutoModelForCausalLM, AutoTokenizer\n",
    "import os\n",
    "import pandas as pd\n",
    "import numpy as np\n",
    "import json\n",
    "import torch\n",
    "import re\n",
    "import ast"
   ]
  },
  {
   "cell_type": "code",
   "execution_count": null,
   "id": "18d24c50",
   "metadata": {},
   "outputs": [],
   "source": [
    "model_name = \"Qwen/Qwen2.5-14B-Instruct\"\n",
    "\n",
    "model = AutoModelForCausalLM.from_pretrained(\n",
    "    model_name,\n",
    "    torch_dtype=torch.float16,\n",
    "    device_map=\"mps\"\n",
    ")\n",
    "tokenizer = AutoTokenizer.from_pretrained(model_name)\n",
    "\n"
   ]
  },
  {
   "cell_type": "code",
   "execution_count": null,
   "id": "502f4c6e",
   "metadata": {},
   "outputs": [],
   "source": [
    "system_prompt = \"You are an expert at solving complex grade-school math problems with step-by-step reason and return output in json format\"\n",
    "\n",
    "user_prompt_template = \"\"\"{question}\n",
    "\n",
    "Solve the above grade-school math problem by breaking it down step by step.\n",
    "\n",
    "Follow this format strictly:\n",
    "Reason: [step 1: ..., step 2: ..., ...]\n",
    "Answer: [final numeric answer] # present only numeric value for Answer\n",
    "\"\"\"\n"
   ]
  },
  {
   "cell_type": "code",
   "execution_count": null,
   "id": "d19018f8",
   "metadata": {},
   "outputs": [],
   "source": [
    "with open('../gsm8k/gsm8k.json', 'r') as f:\n",
    "    data = json.load(f)"
   ]
  },
  {
   "cell_type": "code",
   "execution_count": null,
   "id": "09815457",
   "metadata": {},
   "outputs": [],
   "source": [
    "data[0]['question']"
   ]
  },
  {
   "cell_type": "code",
   "execution_count": null,
   "id": "cf247513",
   "metadata": {},
   "outputs": [],
   "source": [
    "data[0]['answer'].split('#### ')"
   ]
  },
  {
   "cell_type": "code",
   "execution_count": null,
   "id": "c671e76c",
   "metadata": {},
   "outputs": [],
   "source": [
    "\n",
    "def save_pred(response, ques, gt_reason, gt_answer, path):\n",
    "    response = response.replace('\"', \"'\")\n",
    "    reason_start = re.search(r\"Reason:\", response, re.DOTALL).span()[0]\n",
    "    reason_end = re.search(r\"Reason:\", response, re.DOTALL).span()[1]\n",
    "    answer_start = re.search(r\"Answer:\", response, re.DOTALL).span()[0]\n",
    "    answer_end = re.search(r\"Answer:\", response, re.DOTALL).span()[1]\n",
    "    \n",
    "    reason_text = response[reason_start:answer_start]\n",
    "    reason_lines = [line.strip() for line in reason_text.strip().split(\"\\n\") if line.strip()]\n",
    "    \n",
    "    answer_text = response[answer_start:]\n",
    "    answer_str = answer_text.replace(\"Answer:\", \"\").strip()\n",
    "    answer_dict = ast.literal_eval(answer_str)\n",
    "    \n",
    "    result = {\n",
    "            \"Question\": ques,\n",
    "            \"Reason\": reason_lines,\n",
    "            \"Answer\": answer_dict,\n",
    "            \"GT_answer\": gt_answer,\n",
    "            \"GT_reason\": gt_reason\n",
    "        }\n",
    "    with open(path, \"w\") as f:\n",
    "        json.dump(result, f, indent=2)\n"
   ]
  },
  {
   "cell_type": "code",
   "execution_count": null,
   "id": "abcd9c9c",
   "metadata": {},
   "outputs": [],
   "source": [
    "\n",
    "for num, pair in enumerate(data):\n",
    "    if num < 809:\n",
    "        continue\n",
    "    print(num)\n",
    "    ques = pair['question']\n",
    "    gt_reason = pair['answer'].split('#### ')[0]\n",
    "    gt_answer = pair['answer'].split('#### ')[1]\n",
    "    \n",
    "    messages = [\n",
    "        {\"role\": \"system\", \"content\": system_prompt},\n",
    "        {\"role\": \"user\", \"content\": user_prompt_template.format(question=ques)}\n",
    "    ]\n",
    "    text = tokenizer.apply_chat_template(\n",
    "        messages,\n",
    "        tokenize=False,\n",
    "        add_generation_prompt=True\n",
    "    )\n",
    "    model_inputs = tokenizer([text], return_tensors=\"pt\").to(model.device)\n",
    "\n",
    "    generated_ids = model.generate(\n",
    "        **model_inputs,\n",
    "        max_new_tokens=1024\n",
    "    )\n",
    "    generated_ids = [\n",
    "        output_ids[len(input_ids):] for input_ids, output_ids in zip(model_inputs.input_ids, generated_ids)\n",
    "    ]\n",
    "\n",
    "    response = tokenizer.batch_decode(generated_ids, skip_special_tokens=True)[0]\n",
    "    path = '../gsm8k/qwen_25_pred/' + str(num) + '.json'\n",
    "    save_pred(response, ques, gt_reason, gt_answer, path)\n",
    "    \n",
    "    \n"
   ]
  },
  {
   "cell_type": "code",
   "execution_count": null,
   "id": "4d03d90a",
   "metadata": {},
   "outputs": [],
   "source": []
  }
 ],
 "metadata": {
  "kernelspec": {
   "display_name": "Python 3 (ipykernel)",
   "language": "python",
   "name": "python3"
  },
  "language_info": {
   "codemirror_mode": {
    "name": "ipython",
    "version": 3
   },
   "file_extension": ".py",
   "mimetype": "text/x-python",
   "name": "python",
   "nbconvert_exporter": "python",
   "pygments_lexer": "ipython3",
   "version": "3.9.16"
  }
 },
 "nbformat": 4,
 "nbformat_minor": 5
}
