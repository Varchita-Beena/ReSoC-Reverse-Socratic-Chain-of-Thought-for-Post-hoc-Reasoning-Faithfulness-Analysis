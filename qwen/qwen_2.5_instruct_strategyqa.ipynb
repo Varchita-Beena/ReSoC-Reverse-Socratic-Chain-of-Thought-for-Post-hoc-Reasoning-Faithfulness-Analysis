{
 "cells": [
  {
   "cell_type": "code",
   "execution_count": null,
   "id": "a87c49a8",
   "metadata": {},
   "outputs": [],
   "source": [
    "from transformers import AutoModelForCausalLM, AutoTokenizer\n",
    "import os\n",
    "import pandas as pd\n",
    "import numpy as np\n",
    "import json\n",
    "import torch\n",
    "import re\n",
    "import ast"
   ]
  },
  {
   "cell_type": "code",
   "execution_count": null,
   "id": "18d24c50",
   "metadata": {},
   "outputs": [],
   "source": [
    "model_name = \"Qwen/Qwen2.5-14B-Instruct\"\n",
    "\n",
    "model = AutoModelForCausalLM.from_pretrained(\n",
    "    model_name,\n",
    "    torch_dtype=torch.float16,\n",
    "    device_map=\"mps\"\n",
    ")\n",
    "tokenizer = AutoTokenizer.from_pretrained(model_name)\n",
    "\n"
   ]
  },
  {
   "cell_type": "code",
   "execution_count": null,
   "id": "502f4c6e",
   "metadata": {},
   "outputs": [],
   "source": [
    "system_prompt = \"You are an expert reasoning assistant. Your goal is to answer factual yes/no questions using clear, logical, and multi-step reasoning. Always provide the reasoning first, then a final answer.\"\n",
    "\n",
    "user_prompt_template = \"\"\"\n",
    "{question}\n",
    "\n",
    "Answer the question step-by-step using logical reasoning based on commonsense or factual knowledge.\n",
    "\n",
    "Format your response as:\n",
    "Reason: [step 1: ..., step 2: ..., ..., step n: ...]\n",
    "Answer: [True/False]\n",
    "\"\"\"\n"
   ]
  },
  {
   "cell_type": "code",
   "execution_count": null,
   "id": "d19018f8",
   "metadata": {},
   "outputs": [],
   "source": [
    "with open('../strategyQA/strategyqa.json', 'r') as f:\n",
    "    data = json.load(f)"
   ]
  },
  {
   "cell_type": "code",
   "execution_count": null,
   "id": "2b434180",
   "metadata": {},
   "outputs": [],
   "source": [
    "data[0]"
   ]
  },
  {
   "cell_type": "code",
   "execution_count": null,
   "id": "530595f6",
   "metadata": {},
   "outputs": [],
   "source": [
    "\n",
    "\n",
    "datapoint = data[11]\n",
    "ques = datapoint['question']\n",
    "gt_answer = datapoint['answer']\n",
    "\n",
    "messages = [\n",
    "    {\"role\": \"system\", \"content\": system_prompt},\n",
    "    {\"role\": \"user\", \"content\": user_prompt_template.format(question=ques)}\n",
    "]\n",
    "text = tokenizer.apply_chat_template(\n",
    "    messages,\n",
    "    tokenize=False,\n",
    "    add_generation_prompt=True\n",
    ")\n",
    "model_inputs = tokenizer([text], return_tensors=\"pt\").to(model.device)\n",
    "\n",
    "generated_ids = model.generate(\n",
    "    **model_inputs,\n",
    "    max_new_tokens=1024\n",
    ")\n",
    "generated_ids = [\n",
    "    output_ids[len(input_ids):] for input_ids, output_ids in zip(model_inputs.input_ids, generated_ids)\n",
    "]\n",
    "\n",
    "response = tokenizer.batch_decode(generated_ids, skip_special_tokens=True)[0]\n",
    "response\n"
   ]
  },
  {
   "cell_type": "code",
   "execution_count": null,
   "id": "c671e76c",
   "metadata": {},
   "outputs": [],
   "source": [
    "\n",
    "def save_pred(id_, response, ques, gt_answer, path):\n",
    "    response = response.replace('\"', \"'\")\n",
    "    reason_start = re.search(r\"Reason:\", response, re.DOTALL).span()[0]\n",
    "    reason_end = re.search(r\"Reason:\", response, re.DOTALL).span()[1]\n",
    "    answer_start = re.search(r\"Answer:\", response, re.DOTALL).span()[0]\n",
    "    answer_end = re.search(r\"Answer:\", response, re.DOTALL).span()[1]\n",
    "    \n",
    "    reason_text = response[reason_start:answer_start]\n",
    "    reason_lines = [line.strip() for line in reason_text.strip().split(\"\\n\") if line.strip()]\n",
    "    \n",
    "    answer_text = response[answer_start:]\n",
    "    answer_str = answer_text.replace(\"Answer:\", \"\").strip()\n",
    "    \n",
    "    result = {\n",
    "            \"id\": id_,\n",
    "            \"Question\": ques,\n",
    "            \"Reason\": reason_lines,\n",
    "            \"Answer\": answer_str,\n",
    "            \"GT_answer\": gt_answer,\n",
    "        }\n",
    "    with open(path, \"w\") as f:\n",
    "        json.dump(result, f, indent=2)\n"
   ]
  },
  {
   "cell_type": "code",
   "execution_count": null,
   "id": "abcd9c9c",
   "metadata": {},
   "outputs": [],
   "source": [
    "\n",
    "for num, datapoint in enumerate(data):\n",
    "    #if num < 809:\n",
    "    #    continue\n",
    "    print(num)\n",
    "\n",
    "    ques = datapoint['question']\n",
    "    gt_answer = datapoint['answer']\n",
    "\n",
    "    messages = [\n",
    "        {\"role\": \"system\", \"content\": system_prompt},\n",
    "        {\"role\": \"user\", \"content\": user_prompt_template.format(question=ques)}\n",
    "    ]\n",
    "    text = tokenizer.apply_chat_template(\n",
    "        messages,\n",
    "        tokenize=False,\n",
    "        add_generation_prompt=True\n",
    "    )\n",
    "    model_inputs = tokenizer([text], return_tensors=\"pt\").to(model.device)\n",
    "\n",
    "    generated_ids = model.generate(\n",
    "        **model_inputs,\n",
    "        max_new_tokens=1024\n",
    "    )\n",
    "    generated_ids = [\n",
    "        output_ids[len(input_ids):] for input_ids, output_ids in zip(model_inputs.input_ids, generated_ids)\n",
    "    ]\n",
    "\n",
    "    response = tokenizer.batch_decode(generated_ids, skip_special_tokens=True)[0]\n",
    "    path = '../strategyqa/qwen_25_pred/' + str(num) + '.json'\n",
    "    save_pred(datapoint['qid'], response, ques, gt_answer, path)\n",
    "    \n",
    "    \n"
   ]
  },
  {
   "cell_type": "code",
   "execution_count": null,
   "id": "4d03d90a",
   "metadata": {},
   "outputs": [],
   "source": [
    "response"
   ]
  },
  {
   "cell_type": "code",
   "execution_count": null,
   "id": "7359fa76",
   "metadata": {},
   "outputs": [],
   "source": [
    "\n",
    "response = response.replace('\"', \"'\")\n",
    "reason_start = re.search(r\"Reason:\", response, re.DOTALL).span()[0]\n",
    "reason_end = re.search(r\"Reason:\", response, re.DOTALL).span()[1]\n",
    "answer_start = re.search(r\"Answer:\", response, re.DOTALL).span()[0]\n",
    "answer_end = re.search(r\"Answer:\", response, re.DOTALL).span()[1]\n",
    "\n",
    "reason_text = response[reason_start:answer_start]\n",
    "reason_lines = [line.strip() for line in reason_text.strip().split(\"\\n\") if line.strip()]\n",
    "\n",
    "answer_text = response[answer_start:]\n",
    "answer_str = answer_text.replace(\"Answer:\", \"\").strip()\n",
    "\n",
    "result = {\n",
    "        \"Question\": ques,\n",
    "        \"Reason\": reason_lines,\n",
    "        \"Answer\": answer_str,\n",
    "        \"GT_answer\": gt_answer,\n",
    "    }\n",
    "with open('../1.json', \"w\") as f:\n",
    "    json.dump(result, f, indent=2)\n"
   ]
  },
  {
   "cell_type": "code",
   "execution_count": null,
   "id": "b1cb3c4f",
   "metadata": {},
   "outputs": [],
   "source": []
  }
 ],
 "metadata": {
  "kernelspec": {
   "display_name": "Python 3 (ipykernel)",
   "language": "python",
   "name": "python3"
  },
  "language_info": {
   "codemirror_mode": {
    "name": "ipython",
    "version": 3
   },
   "file_extension": ".py",
   "mimetype": "text/x-python",
   "name": "python",
   "nbconvert_exporter": "python",
   "pygments_lexer": "ipython3",
   "version": "3.9.16"
  }
 },
 "nbformat": 4,
 "nbformat_minor": 5
}
