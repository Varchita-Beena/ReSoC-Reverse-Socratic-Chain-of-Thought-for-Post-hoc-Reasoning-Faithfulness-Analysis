{
 "cells": [
  {
   "cell_type": "code",
   "execution_count": null,
   "id": "a87c49a8",
   "metadata": {},
   "outputs": [],
   "source": [
    "from transformers import AutoModelForCausalLM, AutoTokenizer\n",
    "import os\n",
    "import pandas as pd\n",
    "import numpy as np\n",
    "import json\n",
    "import torch\n",
    "import re\n",
    "import ast"
   ]
  },
  {
   "cell_type": "code",
   "execution_count": null,
   "id": "18d24c50",
   "metadata": {},
   "outputs": [],
   "source": [
    "model_name = \"Qwen/Qwen2.5-14B-Instruct\"\n",
    "\n",
    "model = AutoModelForCausalLM.from_pretrained(\n",
    "    model_name,\n",
    "    torch_dtype=torch.float16,\n",
    "    device_map=\"mps\"\n",
    ")\n",
    "tokenizer = AutoTokenizer.from_pretrained(model_name)\n",
    "\n"
   ]
  },
  {
   "cell_type": "code",
   "execution_count": null,
   "id": "502f4c6e",
   "metadata": {},
   "outputs": [],
   "source": [
    "system_prompt = \"You are an expert reasoning assistant. Your goal is to answer factual yes/no questions using clear, logical, and multi-step reasoning. Always provide the reasoning first, then a final answer.\"\n",
    "\n",
    "user_prompt_template = \"\"\"\n",
    "{question}\n",
    "\n",
    "Answer the question step-by-step using logical reasoning based on commonsense or factual knowledge.\n",
    "\n",
    "Format your response as:\n",
    "\"Reason:\" [step 1: ..., step 2: ..., ..., step n: ...]\n",
    "\"Answer:\" [True/False]\n",
    "\"\"\"\n"
   ]
  },
  {
   "cell_type": "code",
   "execution_count": null,
   "id": "d616119c",
   "metadata": {},
   "outputs": [],
   "source": [
    "os.listdir('../strategyQA/')"
   ]
  },
  {
   "cell_type": "code",
   "execution_count": null,
   "id": "501ac1dd",
   "metadata": {},
   "outputs": [],
   "source": [
    "main_path = '../strategyQA/similarity_generate_questions/'\n",
    "files = os.listdir(main_path)\n",
    "if '.DS_Store' in files:\n",
    "    files.remove('.DS_Store')\n",
    "len(files)\n"
   ]
  },
  {
   "cell_type": "code",
   "execution_count": null,
   "id": "d19018f8",
   "metadata": {},
   "outputs": [],
   "source": [
    "with open('../strategyQA/similarity_generate_questions/'+files[10], 'r') as f:\n",
    "    data = json.load(f)"
   ]
  },
  {
   "cell_type": "code",
   "execution_count": null,
   "id": "2b434180",
   "metadata": {},
   "outputs": [],
   "source": [
    "data"
   ]
  },
  {
   "cell_type": "code",
   "execution_count": null,
   "id": "06a41710",
   "metadata": {},
   "outputs": [],
   "source": [
    "data['generated_question']"
   ]
  },
  {
   "cell_type": "code",
   "execution_count": null,
   "id": "229db074",
   "metadata": {},
   "outputs": [],
   "source": [
    "data.keys()"
   ]
  },
  {
   "cell_type": "code",
   "execution_count": null,
   "id": "c671e76c",
   "metadata": {},
   "outputs": [],
   "source": [
    "\n",
    "def save_pred(id_, question, reason, answer, GT_answer, GT_reason, generated_question, evaluation, question_num, ques_similarity_value, response, path):\n",
    "    #response = response.replace('\"', \"'\")\n",
    "    reason_start = re.search(r\"Reason:\", response, re.DOTALL).span()[0]\n",
    "    reason_end = re.search(r\"Reason:\", response, re.DOTALL).span()[1]\n",
    "    answer_start = re.search(r\"Answer:\", response, re.DOTALL).span()[0]\n",
    "    answer_end = re.search(r\"Answer:\", response, re.DOTALL).span()[1]\n",
    "    \n",
    "    reason_text = response[reason_start:answer_start]\n",
    "    reason_lines = [line.strip() for line in reason_text.strip().split(\"\\n\") if line.strip()]\n",
    "    \n",
    "    answer_text = response[answer_start:]\n",
    "    answer_str = answer_text.replace(\"Answer:\", \"\").strip()\n",
    "\n",
    "    result = {\n",
    "            \"id\": id_,\n",
    "            \"question\": question,\n",
    "            \"reason\": reason,\n",
    "            \"GT_answer\": GT_answer,\n",
    "            \"GT_reason\":GT_reason,\n",
    "            \"generated_question\":generated_question,\n",
    "            \"evaluation\":evaluation,\n",
    "            \"question_num\":question_num,\n",
    "            \"ques_similarity_value\":ques_similarity_value,\n",
    "  \n",
    "            \"pred_reason\": reason_lines,\n",
    "            \"pred_answer\": answer_str,\n",
    "            \n",
    "        }\n",
    "    with open(path, \"w\") as f:\n",
    "        json.dump(result, f, indent=2)\n"
   ]
  },
  {
   "cell_type": "code",
   "execution_count": null,
   "id": "abcd9c9c",
   "metadata": {},
   "outputs": [],
   "source": [
    "\n",
    "for num, file_name in enumerate(files):\n",
    "    #if num < 809:\n",
    "    #    continue\n",
    "    print(num)\n",
    "    \n",
    "    with open('../strategyQA/similarity_generate_questions/'+file_name, 'r') as f:\n",
    "        data = json.load(f)\n",
    "    \n",
    "    \n",
    "    id_ = data['id']\n",
    "    question = data['question']\n",
    "    reason = data['reason']\n",
    "    answer = data['answer']\n",
    "    GT_answer = data['GT_answer']\n",
    "    GT_reason = data['GT_reason']\n",
    "    generated_question = data['generated_question']\n",
    "    evaluation = data['evaluation']\n",
    "    question_num = data['question_num']\n",
    "    ques_similarity_value = data['ques_similarity_value']\n",
    "\n",
    "    max_sum = question_num[-1]\n",
    "    if max_sum == 0:\n",
    "        q = generated_question[0]\n",
    "    elif max_sum == 1:\n",
    "        q = generated_question[1]\n",
    "    elif max_sum == 2:\n",
    "        q = generated_question[2]\n",
    "        \n",
    "    \n",
    "    messages = [\n",
    "        {\"role\": \"system\", \"content\": system_prompt},\n",
    "        {\"role\": \"user\", \"content\": user_prompt_template.format(question=q)}\n",
    "    ]\n",
    "    text = tokenizer.apply_chat_template(\n",
    "        messages,\n",
    "        tokenize=False,\n",
    "        add_generation_prompt=True\n",
    "    )\n",
    "    model_inputs = tokenizer([text], return_tensors=\"pt\").to(model.device)\n",
    "\n",
    "    generated_ids = model.generate(\n",
    "        **model_inputs,\n",
    "        max_new_tokens=1024\n",
    "    )\n",
    "    generated_ids = [\n",
    "        output_ids[len(input_ids):] for input_ids, output_ids in zip(model_inputs.input_ids, generated_ids)\n",
    "    ]\n",
    "\n",
    "    response = tokenizer.batch_decode(generated_ids, skip_special_tokens=True)[0]\n",
    "    path = '../strategyqa/answer_reason_generated_question/' + file_name\n",
    "    save_pred(id_, question, reason, answer, GT_answer, GT_reason, generated_question, evaluation, question_num, ques_similarity_value, response, path)\n",
    "    \n"
   ]
  },
  {
   "cell_type": "code",
   "execution_count": null,
   "id": "4d03d90a",
   "metadata": {},
   "outputs": [],
   "source": [
    "response"
   ]
  },
  {
   "cell_type": "code",
   "execution_count": null,
   "id": "7359fa76",
   "metadata": {},
   "outputs": [],
   "source": [
    "\n",
    "response = response.replace('\"', \"'\")\n",
    "reason_start = re.search(r\"Reason:\", response, re.DOTALL).span()[0]\n",
    "reason_end = re.search(r\"Reason:\", response, re.DOTALL).span()[1]\n",
    "answer_start = re.search(r\"Answer:\", response, re.DOTALL).span()[0]\n",
    "answer_end = re.search(r\"Answer:\", response, re.DOTALL).span()[1]\n",
    "\n",
    "reason_text = response[reason_start:answer_start]\n",
    "reason_lines = [line.strip() for line in reason_text.strip().split(\"\\n\") if line.strip()]\n",
    "\n",
    "answer_text = response[answer_start:]\n",
    "answer_str = answer_text.replace(\"Answer:\", \"\").strip()\n",
    "\n",
    "result = {\n",
    "        \"Question\": ques,\n",
    "        \"Reason\": reason_lines,\n",
    "        \"Answer\": answer_str,\n",
    "        \"GT_answer\": gt_answer,\n",
    "    }\n",
    "with open('../1.json', \"w\") as f:\n",
    "    json.dump(result, f, indent=2)\n"
   ]
  },
  {
   "cell_type": "code",
   "execution_count": null,
   "id": "b1cb3c4f",
   "metadata": {},
   "outputs": [],
   "source": []
  }
 ],
 "metadata": {
  "kernelspec": {
   "display_name": "Python 3 (ipykernel)",
   "language": "python",
   "name": "python3"
  },
  "language_info": {
   "codemirror_mode": {
    "name": "ipython",
    "version": 3
   },
   "file_extension": ".py",
   "mimetype": "text/x-python",
   "name": "python",
   "nbconvert_exporter": "python",
   "pygments_lexer": "ipython3",
   "version": "3.9.16"
  }
 },
 "nbformat": 4,
 "nbformat_minor": 5
}
