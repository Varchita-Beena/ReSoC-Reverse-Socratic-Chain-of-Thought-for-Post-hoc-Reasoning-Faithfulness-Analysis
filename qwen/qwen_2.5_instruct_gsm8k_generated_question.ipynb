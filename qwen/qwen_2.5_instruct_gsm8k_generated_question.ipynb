{
 "cells": [
  {
   "cell_type": "code",
   "execution_count": null,
   "id": "a87c49a8",
   "metadata": {},
   "outputs": [],
   "source": [
    "from transformers import AutoModelForCausalLM, AutoTokenizer\n",
    "import os\n",
    "import pandas as pd\n",
    "import numpy as np\n",
    "import json\n",
    "import torch\n",
    "import re\n",
    "import ast"
   ]
  },
  {
   "cell_type": "code",
   "execution_count": null,
   "id": "18d24c50",
   "metadata": {},
   "outputs": [],
   "source": [
    "model_name = \"Qwen/Qwen2.5-14B-Instruct\"\n",
    "\n",
    "model = AutoModelForCausalLM.from_pretrained(\n",
    "    model_name,\n",
    "    torch_dtype=torch.float16,\n",
    "    device_map=\"mps\"\n",
    ")\n",
    "tokenizer = AutoTokenizer.from_pretrained(model_name)\n",
    "\n"
   ]
  },
  {
   "cell_type": "code",
   "execution_count": null,
   "id": "502f4c6e",
   "metadata": {},
   "outputs": [],
   "source": [
    "system_prompt = \"You are an expert at solving complex grade-school math problems with step-by-step reason and return output in json format\"\n",
    "\n",
    "user_prompt_template = \"\"\"{question}\n",
    "\n",
    "Solve the above grade-school math problem by breaking it down step by step.\n",
    "\n",
    "Also, present only numeric value for Answer. Follow this format strictly. No any other format:\n",
    "\"Reason:\" [step 1: ..., step 2: ..., ...]\n",
    "\"Answer:\" [final numeric answer] \n",
    "\"\"\"\n"
   ]
  },
  {
   "cell_type": "code",
   "execution_count": null,
   "id": "44bcdf53",
   "metadata": {},
   "outputs": [],
   "source": [
    "main_path = '../gsm8k/similarity_generate_questions/'"
   ]
  },
  {
   "cell_type": "code",
   "execution_count": null,
   "id": "4d577e3c",
   "metadata": {},
   "outputs": [],
   "source": [
    "files = os.listdir(main_path)\n",
    "if '.DS_Store' in files:\n",
    "    files.remove('.DS_Store')\n",
    "len(files)"
   ]
  },
  {
   "cell_type": "code",
   "execution_count": null,
   "id": "d19018f8",
   "metadata": {},
   "outputs": [],
   "source": [
    "with open(main_path + files[0], 'r') as f:\n",
    "    data = json.load(f)"
   ]
  },
  {
   "cell_type": "code",
   "execution_count": null,
   "id": "c0005472",
   "metadata": {},
   "outputs": [],
   "source": [
    "data"
   ]
  },
  {
   "cell_type": "code",
   "execution_count": null,
   "id": "ed3a05fc",
   "metadata": {},
   "outputs": [],
   "source": [
    "data['generated_question'][-1]"
   ]
  },
  {
   "cell_type": "code",
   "execution_count": null,
   "id": "c671e76c",
   "metadata": {},
   "outputs": [],
   "source": [
    "   \n",
    "def save_pred(question, reason, answer, GT_answer, GT_reason, generated_question, evaluation, question_num, ques_similarity_value, response, path):\n",
    "    response = response.replace(\"'\", \"\")\n",
    "    try:\n",
    "        reason_start = re.search(r\"Reason:\", response, re.DOTALL).span()[0]\n",
    "        reason_end = re.search(r\"Reason:\", response, re.DOTALL).span()[1]\n",
    "        answer_start = re.search(r\"Answer:\", response, re.DOTALL).span()[0]\n",
    "        answer_end = re.search(r\"Answer:\", response, re.DOTALL).span()[1]\n",
    "    except:\n",
    "        reason_start = re.search(r'\"Reason\":', response, re.DOTALL).span()[0]\n",
    "        reason_end = re.search(r'\"Reason\":', response, re.DOTALL).span()[1]\n",
    "        answer_start = re.search(r'\"Answer\":', response, re.DOTALL).span()[0]\n",
    "        answer_end = re.search(r'\"Answer\":', response, re.DOTALL).span()[1]\n",
    "\n",
    "    reason_text = response[reason_start:answer_start]\n",
    "    reason_lines = [line.strip() for line in reason_text.strip().split(\"\\n\") if line.strip()]\n",
    "    \n",
    "    answer_text = response[answer_start:]\n",
    "    answer_str = answer_text.replace(\"Answer:\", \"\").strip()\n",
    "    try:\n",
    "        answer_dict = ast.literal_eval(answer_str)\n",
    "    except:\n",
    "        answer_dict = answer_str.strip()\n",
    "    \n",
    "    result = {\n",
    "            \"question\": question,\n",
    "            \"reason\":reason,\n",
    "            \"answer\":answer,\n",
    "            \"GT_answer\":GT_answer,\n",
    "            \"GT_reason\":GT_reason,\n",
    "            \"generated_question\":generated_question,\n",
    "            \"evaluation\":evaluation,\n",
    "            \"question_num\":question_num,\n",
    "            \"ques_similarity_value\":ques_similarity_value,\n",
    "\n",
    "            \"pred_reason\": reason_lines,\n",
    "            \"pred_answer\": answer_dict,\n",
    "        }\n",
    "    with open(path, \"w\") as f:\n",
    "        json.dump(result, f, indent=2)\n",
    "\n"
   ]
  },
  {
   "cell_type": "code",
   "execution_count": null,
   "id": "abcd9c9c",
   "metadata": {},
   "outputs": [],
   "source": [
    "\n",
    "\n",
    "for num, file_name in enumerate(files):\n",
    "    if num < 395:\n",
    "        continue\n",
    "    print(num)\n",
    "    with open(main_path + file_name, 'r') as f:\n",
    "        data = json.load(f)\n",
    "    \n",
    "    question = data['question']\n",
    "    reason = data['reason']\n",
    "    answer = data['answer']\n",
    "    GT_answer = data['GT_answer']\n",
    "    GT_reason = data['GT_reason']\n",
    "    generated_question = data['generated_question']\n",
    "    evaluation = data['evaluation']\n",
    "    question_num = data['question_num']\n",
    "    ques_similarity_value = data['ques_similarity_value']\n",
    "        \n",
    "    num = question_num[-1]\n",
    "    if num == 2:\n",
    "        ques = generated_question[-1][22:-1]\n",
    "    elif num == 0:\n",
    "        ques = generated_question[0][14:-2]\n",
    "    elif num == 1:\n",
    "        ques = generated_question[1][14:-2]\n",
    "    \n",
    "    \n",
    "    messages = [\n",
    "        {\"role\": \"system\", \"content\": system_prompt},\n",
    "        {\"role\": \"user\", \"content\": user_prompt_template.format(question=ques)}\n",
    "    ]\n",
    "    text = tokenizer.apply_chat_template(\n",
    "        messages,\n",
    "        tokenize=False,\n",
    "        add_generation_prompt=True\n",
    "    )\n",
    "    model_inputs = tokenizer([text], return_tensors=\"pt\").to(model.device)\n",
    "\n",
    "    generated_ids = model.generate(\n",
    "        **model_inputs,\n",
    "        max_new_tokens=1024\n",
    "    )\n",
    "    generated_ids = [\n",
    "        output_ids[len(input_ids):] for input_ids, output_ids in zip(model_inputs.input_ids, generated_ids)\n",
    "    ]\n",
    "\n",
    "    response = tokenizer.batch_decode(generated_ids, skip_special_tokens=True)[0]\n",
    "    path = '../gsm8k/answer_reason_generated_question/' + file_name\n",
    "    save_pred(question, reason, answer, GT_answer, GT_reason, generated_question, evaluation, question_num, ques_similarity_value, response, path)\n",
    "   \n",
    "       "
   ]
  },
  {
   "cell_type": "code",
   "execution_count": null,
   "id": "4d03d90a",
   "metadata": {},
   "outputs": [],
   "source": [
    "response"
   ]
  },
  {
   "cell_type": "code",
   "execution_count": null,
   "id": "ebe2ddff",
   "metadata": {},
   "outputs": [],
   "source": []
  }
 ],
 "metadata": {
  "kernelspec": {
   "display_name": "Python 3 (ipykernel)",
   "language": "python",
   "name": "python3"
  },
  "language_info": {
   "codemirror_mode": {
    "name": "ipython",
    "version": 3
   },
   "file_extension": ".py",
   "mimetype": "text/x-python",
   "name": "python",
   "nbconvert_exporter": "python",
   "pygments_lexer": "ipython3",
   "version": "3.9.16"
  }
 },
 "nbformat": 4,
 "nbformat_minor": 5
}
