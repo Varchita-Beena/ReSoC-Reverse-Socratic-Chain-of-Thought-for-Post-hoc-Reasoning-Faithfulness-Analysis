{
 "cells": [
  {
   "cell_type": "code",
   "execution_count": null,
   "id": "0bab3a9b",
   "metadata": {},
   "outputs": [],
   "source": [
    "import google.generativeai as genai\n",
    "import base64\n",
    "from PIL import Image\n",
    "from io import BytesIO\n",
    "import requests\n",
    "import os\n",
    "import json\n",
    "import re\n",
    "import pandas as pd\n",
    "from vertexai.preview.generative_models import Part\n",
    "                "
   ]
  },
  {
   "cell_type": "code",
   "execution_count": null,
   "id": "95f7fd42",
   "metadata": {},
   "outputs": [],
   "source": [
    "\n",
    "genai.configure(api_key=\"\")\n"
   ]
  },
  {
   "cell_type": "code",
   "execution_count": null,
   "id": "769695d1",
   "metadata": {},
   "outputs": [],
   "source": [
    "model = genai.GenerativeModel(\"gemini-2.0-flash-lite\")\n"
   ]
  },
  {
   "cell_type": "code",
   "execution_count": null,
   "id": "ab997127",
   "metadata": {},
   "outputs": [],
   "source": [
    "def encode_image(path):\n",
    "    with open(path, \"rb\") as f:\n",
    "        return base64.b64encode(f.read()).decode(\"utf-8\")\n",
    "\n",
    "def escape_inches(st):\n",
    "    # Add a single backslash before a \" that follows a digit\n",
    "    return re.sub(r'(?<=\\d)\"', '\\\\\"', st)\n"
   ]
  },
  {
   "cell_type": "code",
   "execution_count": null,
   "id": "02eb7293",
   "metadata": {},
   "outputs": [],
   "source": [
    "img_path = '../Tell2Design Data/General Data/floorplan_image/'\n",
    "save_path = '../Tell2Design Data/topological_ordering/'\n",
    "json_path = '../Tell2Design Data/t2d.json'"
   ]
  },
  {
   "cell_type": "code",
   "execution_count": null,
   "id": "80cda134",
   "metadata": {},
   "outputs": [],
   "source": [
    "with open(json_path) as f:\n",
    "    data = json.load(f)"
   ]
  },
  {
   "cell_type": "code",
   "execution_count": null,
   "id": "3a3b4c3e",
   "metadata": {},
   "outputs": [],
   "source": [
    "data['77414.png']"
   ]
  },
  {
   "cell_type": "code",
   "execution_count": null,
   "id": "57b4818e",
   "metadata": {},
   "outputs": [],
   "source": [
    "system_prompt = {\n",
    "    \"role\": \"user\",\n",
    "    \"parts\": [\n",
    "        {\n",
    "            \"text\": \"\"\"You are a top-level architect with years of experience reading detailed architectural site plans.\n",
    "\n",
    "            <color-scheme>\n",
    "            Use this exact color-to-room mapping:\n",
    "            - balcony:      (107, 142, 35)\n",
    "            - common room:  (255, 215, 0)\n",
    "            - bathroom:     (173, 216, 230)\n",
    "            - kitchen:      (240, 128, 128)\n",
    "            - master room:  (255, 165, 0)\n",
    "            - living room:  (238, 232, 170)\n",
    "            - entrance:     (255, 0, 0)\n",
    "            - dining room:  (218, 112, 214)\n",
    "            - storage:      (221, 160, 221)\n",
    "            </color-scheme>\n",
    "\n",
    "            <assumptions>\n",
    "            - The top of the image is North.\n",
    "            - Image size is 256×256 pixels.\n",
    "            - If multiple rooms share a type, label them type_1, type_2, … (e.g., common_1, common_2).\n",
    "            </assumptions>\n",
    "            \n",
    "            <task>\n",
    "            1. Provide a step-by-step reasoning process for producing a topological ordering of rooms from north to south, breaking ties west to east.\n",
    "            </task>\n",
    "            \n",
    "           \n",
    "            Strictly follow this output format\n",
    "            No json format output\n",
    "            <output format>\n",
    "            \"CoT:\" ...\n",
    "            \"answer:\" ...\n",
    "            </output format>\n",
    "            \n",
    "            \n",
    "            \"\"\"\n",
    "            \n",
    "        }\n",
    "    ]\n",
    "}\n"
   ]
  },
  {
   "cell_type": "code",
   "execution_count": null,
   "id": "4745a97b",
   "metadata": {},
   "outputs": [],
   "source": [
    "def save_pred(output, path, dp):\n",
    "    output = output.replace('*', \"\")\n",
    "\n",
    "    reason_start = re.search(r'CoT:', output, re.DOTALL).span()[0]\n",
    "    reason_end = re.search(r'CoT:', output, re.DOTALL).span()[1]\n",
    "    answer_start = re.search(r'answer:', output, re.DOTALL).span()[0]\n",
    "    answer_end = re.search(r'answer:', output, re.DOTALL).span()[1]\n",
    "\n",
    "    \n",
    "    reason_text = output[reason_end:answer_start]\n",
    "    reason_lines = [line.strip() for line in reason_text.strip().split(\"\\n\") if line.strip()]\n",
    "    answer_text = output[answer_end:]\n",
    "    answer_lines = [line.strip() for line in answer_text.strip().split(\"\\n\") if line.strip()]\n",
    "\n",
    "    result = {\n",
    "            \"Reason\": reason_lines,\n",
    "            \"Answer\": answer_lines,\n",
    "            \"gt_desc\": dp['desc'],\n",
    "            \"num_rooms\": dp['num_rooms'],\n",
    "            \"rooms\":dp['rooms']\n",
    "            \n",
    "        }\n",
    "    with open(path, \"w\") as f:\n",
    "        json.dump(result, f, indent=2)\n",
    "     "
   ]
  },
  {
   "cell_type": "code",
   "execution_count": null,
   "id": "bf22e9d7",
   "metadata": {},
   "outputs": [],
   "source": [
    "for i, each in enumerate(data.keys()):\n",
    "    print(i)\n",
    "    if i < 227:\n",
    "        continue\n",
    "    \n",
    "    img = img_path + each\n",
    "    messages = [system_prompt]\n",
    "    test_img = encode_image(img)\n",
    "    messages.append({\n",
    "    \"role\": \"user\",\n",
    "    \"parts\": [\n",
    "        {\"mime_type\": \"image/jpeg\", \"data\": test_img},\n",
    "        {\"text\": \"Give chain of thoughts and answer the questions for this floor plan.\"}\n",
    "        ]\n",
    "    })\n",
    "    \n",
    "    response = model.generate_content(messages)\n",
    "    output = response.text\n",
    "    path = save_path + each.split('.png')[0] + '.json'\n",
    "    save_pred(output, path, data[each])\n",
    "    \n",
    "   "
   ]
  },
  {
   "cell_type": "code",
   "execution_count": null,
   "id": "2674905b",
   "metadata": {},
   "outputs": [],
   "source": [
    "response"
   ]
  },
  {
   "cell_type": "code",
   "execution_count": null,
   "id": "90c5087e",
   "metadata": {},
   "outputs": [],
   "source": [
    "output = output.replace('*', \"\")\n",
    "\n",
    "reason_start = re.search(r'CoT:', output, re.DOTALL).span()[0]\n",
    "reason_end = re.search(r'CoT:', output, re.DOTALL).span()[1]\n",
    "answer_start = re.search(r'answer:', output, re.DOTALL).span()[0]\n",
    "answer_end = re.search(r'answer:', output, re.DOTALL).span()[1]\n",
    "\n",
    "\n",
    "reason_text = output[reason_end:answer_start]\n",
    "reason_lines = [line.strip() for line in reason_text.strip().split(\"\\n\") if line.strip()]\n",
    "answer_text = output[answer_end:]\n",
    "answer_lines = [line.strip() for line in answer_text.strip().split(\"\\n\") if line.strip()]\n"
   ]
  },
  {
   "cell_type": "code",
   "execution_count": null,
   "id": "081ffede",
   "metadata": {},
   "outputs": [],
   "source": []
  }
 ],
 "metadata": {
  "kernelspec": {
   "display_name": "Python 3 (ipykernel)",
   "language": "python",
   "name": "python3"
  },
  "language_info": {
   "codemirror_mode": {
    "name": "ipython",
    "version": 3
   },
   "file_extension": ".py",
   "mimetype": "text/x-python",
   "name": "python",
   "nbconvert_exporter": "python",
   "pygments_lexer": "ipython3",
   "version": "3.9.16"
  }
 },
 "nbformat": 4,
 "nbformat_minor": 5
}
