{
 "cells": [
  {
   "cell_type": "code",
   "execution_count": null,
   "id": "d971425a",
   "metadata": {},
   "outputs": [],
   "source": [
    "import os\n",
    "import re\n",
    "import json\n",
    "import ast\n",
    "from sklearn.metrics.pairwise import cosine_similarity\n",
    "from transformers import AutoTokenizer, AutoModel\n",
    "import torch\n",
    "import torch.nn.functional as F\n",
    "import numpy as np\n",
    "import ast\n",
    "import pandas as pd\n"
   ]
  },
  {
   "cell_type": "code",
   "execution_count": null,
   "id": "2c4a22f2",
   "metadata": {},
   "outputs": [],
   "source": [
    "path = '../self_contra/wino_bias_reason_answer_for_generated_question_by_mistral_full/'\n",
    "files = os.listdir(path)\n",
    "files\n"
   ]
  },
  {
   "cell_type": "code",
   "execution_count": null,
   "id": "dc948f1f",
   "metadata": {},
   "outputs": [],
   "source": [
    "if '.DS_Store' in files:\n",
    "    files.remove('.DS_Store')\n",
    "len(files)"
   ]
  },
  {
   "cell_type": "code",
   "execution_count": null,
   "id": "667980c4",
   "metadata": {},
   "outputs": [],
   "source": [
    "# Load model from HuggingFace Hub\n",
    "tokenizer = AutoTokenizer.from_pretrained('sentence-transformers/all-MiniLM-L6-v2')\n",
    "model = AutoModel.from_pretrained('sentence-transformers/all-MiniLM-L6-v2')\n"
   ]
  },
  {
   "cell_type": "code",
   "execution_count": null,
   "id": "9c478e85",
   "metadata": {},
   "outputs": [],
   "source": [
    "files[0]"
   ]
  },
  {
   "cell_type": "code",
   "execution_count": null,
   "id": "26a7e365",
   "metadata": {},
   "outputs": [],
   "source": [
    "data = pd.read_csv(path + files[0])\n",
    "data.columns"
   ]
  },
  {
   "cell_type": "code",
   "execution_count": null,
   "id": "6ea32f34",
   "metadata": {},
   "outputs": [],
   "source": [
    "#Mean Pooling - Take attention mask into account for correct averaging\n",
    "def mean_pooling(model_output, attention_mask):\n",
    "    token_embeddings = model_output[0] #First element of model_output contains all token embeddings\n",
    "    input_mask_expanded = attention_mask.unsqueeze(-1).expand(token_embeddings.size()).float()\n",
    "    return torch.sum(token_embeddings * input_mask_expanded, 1) / torch.clamp(input_mask_expanded.sum(1), min=1e-9)\n",
    "\n",
    "def get_emb(question_dict):\n",
    "    encoded_input = tokenizer(question_dict, padding=True, truncation=False, return_tensors='pt')\n",
    "    # Compute token embeddings\n",
    "    with torch.no_grad():\n",
    "        model_output = model(**encoded_input)\n",
    "\n",
    "    # Perform pooling\n",
    "    sentence_embeddings = mean_pooling(model_output, encoded_input['attention_mask'])\n",
    "\n",
    "    # Normalize embeddings\n",
    "    sentence_embeddings = F.normalize(sentence_embeddings, p=2, dim=1)\n",
    "\n",
    "    return sentence_embeddings\n"
   ]
  },
  {
   "cell_type": "code",
   "execution_count": null,
   "id": "60e2dd23",
   "metadata": {},
   "outputs": [],
   "source": [
    "for j, file_name in enumerate(files):\n",
    "    print(j, file_name)\n",
    "    data = pd.read_csv(path + file_name)\n",
    "    sim_genrea_reason = []\n",
    "    sim_predans_gt = []\n",
    "    sim_predans_pred = []\n",
    "    \n",
    "    for i, row in data.iterrows():\n",
    "        gen_reason = row['reason_for_generated']\n",
    "        reason = row['reasoning']\n",
    "        gen_pred = row['pred_for_generated']\n",
    "        gt = row['ground_truth']\n",
    "        pred = row['prediction']\n",
    "        \n",
    "        temp = [gen_reason, reason, gen_pred, gt, pred]\n",
    "        sentence_embeddings = get_emb(temp)\n",
    "        \n",
    "        similarity_reasons = cosine_similarity(sentence_embeddings[0].cpu().numpy().reshape(1, -1), sentence_embeddings[1].cpu().numpy().reshape(1, -1))[0][0]\n",
    "        similarity_gt = cosine_similarity(sentence_embeddings[2].cpu().numpy().reshape(1, -1), sentence_embeddings[3].cpu().numpy().reshape(1, -1))[0][0]\n",
    "        similarity_pred = cosine_similarity(sentence_embeddings[2].cpu().numpy().reshape(1, -1), sentence_embeddings[4].cpu().numpy().reshape(1, -1))[0][0]\n",
    "        \n",
    "        sim_genrea_reason.append(similarity_reasons)\n",
    "        sim_predans_gt.append(similarity_gt)\n",
    "        sim_predans_pred.append(similarity_pred)\n",
    "        \n",
    "    data['similarity_bt_reasons'] = sim_genrea_reason\n",
    "    data['similarity_bt_predans_gt'] = sim_predans_gt\n",
    "    data['similarity_bt_predans_pred'] = sim_predans_pred\n",
    "    \n",
    "    data.to_csv('../self_contra/wino_bias_reason_similarity_for_generated_by_mistral/' + file_name)\n",
    "        \n",
    "            "
   ]
  },
  {
   "cell_type": "code",
   "execution_count": null,
   "id": "5062b8c9",
   "metadata": {},
   "outputs": [],
   "source": []
  }
 ],
 "metadata": {
  "kernelspec": {
   "display_name": "Python 3 (ipykernel)",
   "language": "python",
   "name": "python3"
  },
  "language_info": {
   "codemirror_mode": {
    "name": "ipython",
    "version": 3
   },
   "file_extension": ".py",
   "mimetype": "text/x-python",
   "name": "python",
   "nbconvert_exporter": "python",
   "pygments_lexer": "ipython3",
   "version": "3.9.16"
  }
 },
 "nbformat": 4,
 "nbformat_minor": 5
}
