{
 "cells": [
  {
   "cell_type": "code",
   "execution_count": null,
   "id": "43dc65f8",
   "metadata": {},
   "outputs": [],
   "source": [
    "import pandas as pd\n",
    "import numpy as np\n",
    "import os\n",
    "import torch\n",
    "import re\n",
    "from transformers import AutoModelForCausalLM, AutoTokenizer\n"
   ]
  },
  {
   "cell_type": "code",
   "execution_count": null,
   "id": "66ea13ee",
   "metadata": {},
   "outputs": [],
   "source": [
    "model = AutoModelForCausalLM.from_pretrained(\"mistralai/Mistral-7B-Instruct-v0.3\", device_map = 'mps')\n",
    "tokenizer = AutoTokenizer.from_pretrained(\"mistralai/Mistral-7B-Instruct-v0.3\")\n"
   ]
  },
  {
   "cell_type": "code",
   "execution_count": null,
   "id": "7aa63030",
   "metadata": {},
   "outputs": [],
   "source": [
    "wino_bias = '../self_contra/wino_bias/'"
   ]
  },
  {
   "cell_type": "code",
   "execution_count": null,
   "id": "5c8d8319",
   "metadata": {},
   "outputs": [],
   "source": [
    "wino_bias_files = os.listdir(wino_bias)\n",
    "wino_bias_files"
   ]
  },
  {
   "cell_type": "code",
   "execution_count": null,
   "id": "3f05dad2",
   "metadata": {},
   "outputs": [],
   "source": [
    "wino_bias_files.remove('male_occupations.txt')\n",
    "wino_bias_files.remove('female_occupations.txt')\n",
    "wino_bias_files"
   ]
  },
  {
   "cell_type": "code",
   "execution_count": null,
   "id": "1d88c622",
   "metadata": {},
   "outputs": [],
   "source": [
    "\n",
    "def get_mistral_pred(question):  \n",
    "    messages = [\n",
    "        {\n",
    "            \"role\":\"user\",\n",
    "            \"content\":f\"\"\"Question: {question} \n",
    "            Give your reason first, then answer, answer should be in maximum 3 to 4 words. \n",
    "            Follow the format: reason:[reason]:\\nAnswer:[Answer]\\n\"\"\"\n",
    "        }\n",
    "    ]\n",
    "\n",
    "\n",
    "    model_inputs = tokenizer.apply_chat_template(messages, return_tensors = \"pt\").to('mps')\n",
    "    pad_token_id = tokenizer.pad_token_id or tokenizer.eos_token_id\n",
    "    attention_mask = model_inputs.ne(pad_token_id).long()\n",
    "\n",
    "    generated_ids = model.generate(model_inputs, max_new_tokens = 1000, do_sample = True, \n",
    "                                   attention_mask=attention_mask, pad_token_id=pad_token_id)\n",
    "    output = tokenizer.batch_decode(generated_ids, skip_special_tokens = True)[0]\n",
    "    #print(output)\n",
    "    if 'Answer:[Answer]' in output:\n",
    "        index = output.index('Answer:[Answer]')\n",
    "        a = output[index+25:]\n",
    "        b = a.index('Answer')\n",
    "        \n",
    "        reason = a[:b]\n",
    "        result = a[b+8:]\n",
    "        \n",
    "        return reason, result\n",
    "    return None, None\n",
    "        "
   ]
  },
  {
   "cell_type": "code",
   "execution_count": null,
   "id": "7488cda8",
   "metadata": {},
   "outputs": [],
   "source": [
    "wino_bias_files = ['pro_stereotyped_type1.txt.dev',\n",
    "                  'pro_stereotyped_type2.txt.test']\n",
    "for num, file_name in enumerate(wino_bias_files):\n",
    "    print(num, file_name)\n",
    "    ques = []\n",
    "    gt = []\n",
    "    pred = []\n",
    "    reasons = []\n",
    "\n",
    "    data = pd.read_csv(wino_bias + file_name, sep=\"\\t\", header=None)\n",
    "    for i, row in data.iterrows(): #.loc[177:][0]:\n",
    "        line = str(row.iloc[0])\n",
    "        print(i)\n",
    "        matches = re.findall(r'\\[(.*?)\\]', line)\n",
    "        cleaned = re.sub(r'\\d+', '', line)\n",
    "        cleaned = re.sub(r'\\[+', '', cleaned)\n",
    "        cleaned = re.sub(r'\\]+', '', cleaned)\n",
    "        \n",
    "        gt.append(matches[0])\n",
    "        question = cleaned + \" Who is '\" + matches[1] + \"'?\"\n",
    "        reason, result = get_mistral_pred(question)\n",
    "        ques.append(question)\n",
    "        reasons.append(reason)\n",
    "        pred.append(result)\n",
    "        \n",
    "    df = pd.DataFrame(columns = ['ques', 'gt', 'reasons', 'pred'])\n",
    "    df['ques'] = ques\n",
    "    df['gt'] = gt\n",
    "    df['reasons'] = reasons\n",
    "    df['pred'] = pred\n",
    "    df.to_csv('../self_contra/' + file_name + '.csv')\n",
    "    \n"
   ]
  },
  {
   "cell_type": "code",
   "execution_count": null,
   "id": "e313c8c1",
   "metadata": {},
   "outputs": [],
   "source": []
  }
 ],
 "metadata": {
  "kernelspec": {
   "display_name": "Python 3 (ipykernel)",
   "language": "python",
   "name": "python3"
  },
  "language_info": {
   "codemirror_mode": {
    "name": "ipython",
    "version": 3
   },
   "file_extension": ".py",
   "mimetype": "text/x-python",
   "name": "python",
   "nbconvert_exporter": "python",
   "pygments_lexer": "ipython3",
   "version": "3.9.16"
  }
 },
 "nbformat": 4,
 "nbformat_minor": 5
}
