{
 "cells": [
  {
   "cell_type": "code",
   "execution_count": null,
   "id": "a87c49a8",
   "metadata": {},
   "outputs": [],
   "source": [
    "from transformers import AutoModelForCausalLM, AutoTokenizer\n",
    "import os\n",
    "import pandas as pd\n",
    "import numpy as np\n",
    "import json\n",
    "import torch\n",
    "import re\n",
    "import ast"
   ]
  },
  {
   "cell_type": "code",
   "execution_count": null,
   "id": "18d24c50",
   "metadata": {},
   "outputs": [],
   "source": [
    "model_name = \"Qwen/Qwen2.5-14B-Instruct\"\n",
    "\n",
    "model = AutoModelForCausalLM.from_pretrained(\n",
    "    model_name,\n",
    "    torch_dtype=torch.float16,\n",
    "    device_map=\"mps\"\n",
    ")\n",
    "tokenizer = AutoTokenizer.from_pretrained(model_name)\n",
    "\n"
   ]
  },
  {
   "cell_type": "code",
   "execution_count": null,
   "id": "502f4c6e",
   "metadata": {},
   "outputs": [],
   "source": [
    "system_prompt = \"You are an expert at multiple choice simple general knowledge questions by step-by-step reason and return output in json format\"\n",
    "\n",
    "user_prompt_template = \"\"\"{question}\n",
    "{options}\n",
    "{labels}\n",
    "\n",
    "Solve the above multiple choice simple general knowledge question by breaking it down step by step.\n",
    "\n",
    "Follow this format strictly:\n",
    "\"Reason:\" [...]\n",
    "\"Answer:\" [Select only one from the labels] \n",
    "\"\"\"\n"
   ]
  },
  {
   "cell_type": "code",
   "execution_count": null,
   "id": "62492d6f",
   "metadata": {},
   "outputs": [],
   "source": [
    "path = '../openbookqa/similarity_generate_questions/'\n",
    "files = os.listdir(path)\n",
    "if 'DS_Store' in files:\n",
    "    files.remove('DS_Store')\n",
    "len(files)"
   ]
  },
  {
   "cell_type": "code",
   "execution_count": null,
   "id": "d19018f8",
   "metadata": {},
   "outputs": [],
   "source": [
    "with open(path + files[10], 'r') as f:\n",
    "    data = json.load(f)"
   ]
  },
  {
   "cell_type": "code",
   "execution_count": null,
   "id": "44dc26c0",
   "metadata": {},
   "outputs": [],
   "source": [
    "data"
   ]
  },
  {
   "cell_type": "code",
   "execution_count": null,
   "id": "b6d5e5ac",
   "metadata": {},
   "outputs": [],
   "source": [
    "data['choices']['text'][0]"
   ]
  },
  {
   "cell_type": "code",
   "execution_count": null,
   "id": "3da238de",
   "metadata": {},
   "outputs": [],
   "source": [
    "data['generated_question'][1][13:-1]"
   ]
  },
  {
   "cell_type": "code",
   "execution_count": null,
   "id": "09815457",
   "metadata": {},
   "outputs": [],
   "source": [
    "data['generated_question'][0][14:-2]"
   ]
  },
  {
   "cell_type": "code",
   "execution_count": null,
   "id": "262d5d64",
   "metadata": {},
   "outputs": [],
   "source": [
    "data.keys()"
   ]
  },
  {
   "cell_type": "code",
   "execution_count": null,
   "id": "c671e76c",
   "metadata": {},
   "outputs": [],
   "source": [
    "    \n",
    "def save_pred(question, choices, answer, reason, GT_answer, generated_question, evaluation, question_num, ques_similarity_value, response, path):\n",
    "    #response = response.replace('\"', \"'\")\n",
    "    #response = response.replace('\\n', \"'\")\n",
    "    \n",
    "    try: \n",
    "        print('try')\n",
    "        reason_start = re.search(r'\"Reason\":', response, re.DOTALL).span()[0]\n",
    "        reason_end = re.search(r'\"Reason\":', response, re.DOTALL).span()[1]\n",
    "        answer_start = re.search(r'\"Answer\":', response, re.DOTALL).span()[0]\n",
    "        answer_end = re.search(r'\"Answer\":', response, re.DOTALL).span()[1]\n",
    "    except:\n",
    "        reason_start = re.search(r\"Reason:\", response, re.DOTALL).span()[0]\n",
    "        reason_end = re.search(r\"Reason:\", response, re.DOTALL).span()[1]\n",
    "        answer_start = re.search(r\"Answer:\", response, re.DOTALL).span()[0]\n",
    "        answer_end = re.search(r\"Answer:\", response, re.DOTALL).span()[1]\n",
    "\n",
    "    reason_text = response[reason_start:answer_start]\n",
    "    reason_lines = [line.strip() for line in reason_text.strip().split(\"\\n\") if line.strip()]\n",
    "    \n",
    "    answer_text = response[answer_start:]\n",
    "    answer_str = answer_text.replace(\"Answer:\", \"\").strip()\n",
    "    \n",
    "\n",
    "    result = {\n",
    "            \"question\":question,\n",
    "            \"choices\":choices,\n",
    "            \"answer\":answer,\n",
    "            \"reason\":reason,\n",
    "            \"GT_answer\":GT_answer,\n",
    "            \"generated_question\":generated_question,\n",
    "            \"evaluation\":evaluation,\n",
    "            \"question_num\":question_num,\n",
    "            \"ques_similarity_value\":ques_similarity_value,\n",
    "            \"pred_reason\": reason_lines,\n",
    "            \"pred_answer\": answer_str,\n",
    "            \n",
    "        }\n",
    "    with open(path, \"w\") as f:\n",
    "        json.dump(result, f, indent=2)\n"
   ]
  },
  {
   "cell_type": "code",
   "execution_count": null,
   "id": "abcd9c9c",
   "metadata": {},
   "outputs": [],
   "source": [
    "\n",
    "for num, file_name in enumerate(files):\n",
    "    if num < 454:\n",
    "        continue\n",
    "    print(num)\n",
    "    with open(path + file_name, 'r') as f:\n",
    "        data = json.load(f)\n",
    "        \n",
    "    reason = data['reason']\n",
    "    question = data['question']\n",
    "    choices = data['choices']\n",
    "    answer = data['answer']\n",
    "    GT_answer = data['GT_answer']\n",
    "    generated_question = data['generated_question']\n",
    "    evaluation = data['evaluation']\n",
    "    question_num = data['question_num']\n",
    "    ques_similarity_value = data['ques_similarity_value']\n",
    "    \n",
    "    max_sim = max(ques_similarity_value)\n",
    "    index = ques_similarity_value.index(max_sim)\n",
    "    if index == 0:\n",
    "        q = data['generated_question'][0][14:-2]\n",
    "        c = data['generated_question'][1][13:-1]\n",
    "    elif index == 1:\n",
    "        q = data['generated_question'][2][14:-2]\n",
    "        c = data['generated_question'][3][13:-1]\n",
    "    elif index == 2:\n",
    "        q = data['generated_question'][4][14:-2]\n",
    "        c = data['generated_question'][5][13:-1]\n",
    "    \n",
    "    c = c.split(',')\n",
    "    messages = [\n",
    "        {\"role\": \"system\", \"content\": system_prompt},\n",
    "        {\"role\": \"user\", \"content\": user_prompt_template.format(question=q, options = c, labels = data['choices']['label'])}\n",
    "    ]\n",
    "    text = tokenizer.apply_chat_template(\n",
    "        messages,\n",
    "        tokenize=False,\n",
    "        add_generation_prompt=True\n",
    "    )\n",
    "    model_inputs = tokenizer([text], return_tensors=\"pt\").to(model.device)\n",
    "\n",
    "    generated_ids = model.generate(\n",
    "        **model_inputs,\n",
    "        max_new_tokens=1024\n",
    "    )\n",
    "    generated_ids = [\n",
    "        output_ids[len(input_ids):] for input_ids, output_ids in zip(model_inputs.input_ids, generated_ids)\n",
    "    ]\n",
    "\n",
    "    response = tokenizer.batch_decode(generated_ids, skip_special_tokens=True)[0]\n",
    "    p = '../openbookqa/answer_reason_generated_question/' + file_name\n",
    "    save_pred(question, choices, answer, reason, GT_answer, generated_question, evaluation, question_num, ques_similarity_value, response, p)\n",
    "    \n",
    "    "
   ]
  },
  {
   "cell_type": "code",
   "execution_count": null,
   "id": "89c29274",
   "metadata": {},
   "outputs": [],
   "source": [
    "response = response.replace('\"', \"'\")\n",
    "response = response.replace('\\n', \"'\")"
   ]
  },
  {
   "cell_type": "code",
   "execution_count": null,
   "id": "f9185ae2",
   "metadata": {},
   "outputs": [],
   "source": [
    "response"
   ]
  },
  {
   "cell_type": "code",
   "execution_count": null,
   "id": "b609ffd6",
   "metadata": {},
   "outputs": [],
   "source": [
    "reason_start = re.search(r'\"Reason\":', response, re.DOTALL).span()[1]"
   ]
  },
  {
   "cell_type": "code",
   "execution_count": null,
   "id": "c67231f2",
   "metadata": {},
   "outputs": [],
   "source": [
    "reason_start"
   ]
  },
  {
   "cell_type": "code",
   "execution_count": null,
   "id": "e2cc232e",
   "metadata": {},
   "outputs": [],
   "source": [
    "reason_start = re.search(r'\"Reason\":', response, re.DOTALL).span()[0]"
   ]
  },
  {
   "cell_type": "code",
   "execution_count": null,
   "id": "c4878ca3",
   "metadata": {},
   "outputs": [],
   "source": []
  }
 ],
 "metadata": {
  "kernelspec": {
   "display_name": "Python 3 (ipykernel)",
   "language": "python",
   "name": "python3"
  },
  "language_info": {
   "codemirror_mode": {
    "name": "ipython",
    "version": 3
   },
   "file_extension": ".py",
   "mimetype": "text/x-python",
   "name": "python",
   "nbconvert_exporter": "python",
   "pygments_lexer": "ipython3",
   "version": "3.9.16"
  }
 },
 "nbformat": 4,
 "nbformat_minor": 5
}
